{
 "cells": [
  {
   "cell_type": "markdown",
   "id": "33948444-7f52-4d95-8fd9-00d296d76b95",
   "metadata": {},
   "source": [
    "# Cuaderno de prueba de los ejercicios desarrollados en el repositorio"
   ]
  },
  {
   "cell_type": "code",
   "execution_count": null,
   "id": "2e9bd12c-8c6c-4ba3-9793-bacb0cc97e24",
   "metadata": {},
   "outputs": [],
   "source": [
    "import matplotlib.pyplot as plt\n",
    "import os\n",
    "from PIL import Image\n",
    "import numpy as np\n",
    "\n",
    "import codigo_estudiante as micodigo # carga funciones de los ejercicios"
   ]
  },
  {
   "cell_type": "markdown",
   "id": "662446fc-05a2-435e-9208-b74f219fee7c",
   "metadata": {},
   "source": [
    "Prueba función nueva_resolucion"
   ]
  },
  {
   "cell_type": "code",
   "execution_count": null,
   "id": "fbfffbad-1023-45c5-8a49-ef77c96259e1",
   "metadata": {},
   "outputs": [],
   "source": [
    "img = Image.open(os.path.join(\"data\",\"imagen0.png\"))\n",
    "img_rs = micodigo.nueva_resolucion(img, nueva_resolucion=(128, 256))\n",
    "\n",
    "display(img_rs)\n",
    "print(img_rs.size)"
   ]
  },
  {
   "cell_type": "markdown",
   "id": "f1ae1ef6-4690-4db8-a011-d0fc032fbf93",
   "metadata": {},
   "source": [
    "Prueba detecta_bordes"
   ]
  },
  {
   "cell_type": "code",
   "execution_count": null,
   "id": "d5e1bc44-f020-4e90-a38b-5d8d600342b5",
   "metadata": {},
   "outputs": [],
   "source": [
    "img_bord = micodigo.detecta_bordes(img)\n",
    "plt.imshow(img_bord, cmap='gray')"
   ]
  },
  {
   "cell_type": "markdown",
   "id": "44172a92-d678-405e-897e-ac036e3ff850",
   "metadata": {},
   "source": [
    "Prueba normaliza"
   ]
  },
  {
   "cell_type": "code",
   "execution_count": null,
   "id": "ac2a6aa0-8c7c-4dcc-a882-7495cc93abda",
   "metadata": {},
   "outputs": [],
   "source": [
    "Inorm = micodigo.normaliza(img)\n",
    "\n",
    "# Aplanar la matriz para calcular el histograma\n",
    "valores = Inorm.flatten()\n",
    "\n",
    "# Graficar el histograma\n",
    "plt.figure(figsize=(8, 6))\n",
    "plt.hist(valores, bins=10, color='gray', edgecolor='black', alpha=0.7)\n",
    "plt.title(\"Histograma de intensidades\")\n",
    "plt.xlabel(\"Valor de intensidad\")\n",
    "plt.ylabel(\"Frecuencia\")\n",
    "plt.grid(True)\n",
    "plt.show()"
   ]
  },
  {
   "cell_type": "markdown",
   "id": "fe484ab7-0f3c-44f0-8994-2c418ef8aaf4",
   "metadata": {},
   "source": [
    "Prueba de transformar_color"
   ]
  },
  {
   "cell_type": "code",
   "execution_count": null,
   "id": "13c09c93-f8d6-4a37-b69e-d89ca86aa548",
   "metadata": {},
   "outputs": [],
   "source": [
    "# Convertir la imagen al espacio de color HSV usando la función\n",
    "imagen_hsv = micodigo.transformar_color(img, espacio='HSV')\n",
    "imagen_lab = micodigo.transformar_color(img, espacio='LAB')\n",
    "imagen_ycrcb = micodigo.transformar_color(img, espacio='YCrCb')\n",
    "\n",
    "# Mostrar la imagen original y la transformada\n",
    "plt.figure(figsize=(12, 6))\n",
    "\n",
    "# Imagen original\n",
    "plt.subplot(2, 2, 1)\n",
    "plt.imshow(img)\n",
    "plt.title(\"Imagen Original (RGB)\")\n",
    "plt.axis('off')\n",
    "\n",
    "# Imagen en espacio de color HSV\n",
    "plt.subplot(2, 2, 2)\n",
    "plt.imshow(imagen_hsv)\n",
    "plt.title(\"Imagen Transformada (HSV)\")\n",
    "plt.axis('off')\n",
    "\n",
    "# Imagen en espacio de color LAB\n",
    "plt.subplot(2, 2, 3)\n",
    "plt.imshow(imagen_lab)\n",
    "plt.title(\"Imagen Transformada (LAB)\")\n",
    "plt.axis('off')\n",
    "\n",
    "# Imagen en espacio de color YCrCb\n",
    "plt.subplot(2, 2, 4)\n",
    "plt.imshow(imagen_ycrcb)\n",
    "plt.title(\"Imagen Transformada (YCrCb)\")\n",
    "plt.axis('off')\n",
    "\n",
    "plt.show()"
   ]
  },
  {
   "cell_type": "markdown",
   "id": "ea3ecce5-a544-479c-a1d9-e9ceb071a50a",
   "metadata": {},
   "source": [
    "Prueba aplicar_filtro"
   ]
  },
  {
   "cell_type": "code",
   "execution_count": null,
   "id": "03155746-799b-4813-b922-84e424657865",
   "metadata": {},
   "outputs": [],
   "source": [
    "# Aplicar filtro GaussianBlur\n",
    "imagen_gaussian = micodigo.aplicar_filtro(img, tipo_filtro=\"GaussianBlur\", ksize=(15, 15), sigmaX=5)\n",
    "\n",
    "# Aplicar filtro Laplacian\n",
    "imagen_laplacian = micodigo.aplicar_filtro(img, tipo_filtro=\"Laplacian\")\n",
    "\n",
    "# Aplicar filtro Canny\n",
    "imagen_canny = micodigo.aplicar_filtro(img, tipo_filtro=\"Canny\", threshold1=100, threshold2=200)\n",
    "\n",
    "# Visualizar los resultados\n",
    "plt.figure(figsize=(15, 10))\n",
    "\n",
    "# Imagen original\n",
    "plt.subplot(2, 2, 1)\n",
    "plt.imshow(img)\n",
    "plt.title(\"Imagen Original\")\n",
    "plt.axis('off')\n",
    "\n",
    "# Imagen con filtro GaussianBlur\n",
    "plt.subplot(2, 2, 2)\n",
    "plt.imshow(imagen_gaussian)\n",
    "plt.title(\"Filtro GaussianBlur\")\n",
    "plt.axis('off')\n",
    "\n",
    "# Imagen con filtro Laplacian\n",
    "plt.subplot(2, 2, 3)\n",
    "plt.imshow(imagen_laplacian, cmap='gray')\n",
    "plt.title(\"Filtro Laplacian\")\n",
    "plt.axis('off')\n",
    "\n",
    "# Imagen con filtro Canny\n",
    "plt.subplot(2, 2, 4)\n",
    "plt.imshow(imagen_canny, cmap='gray')\n",
    "plt.title(\"Filtro Canny\")\n",
    "plt.axis('off')\n",
    "\n",
    "plt.show()"
   ]
  },
  {
   "cell_type": "markdown",
   "id": "9ccd4843-82c2-469a-b512-3aca666fbda5",
   "metadata": {},
   "source": [
    "Prueba binariza"
   ]
  },
  {
   "cell_type": "code",
   "execution_count": null,
   "id": "5b6fabf5-f747-43d2-acdd-e77e82798ee9",
   "metadata": {},
   "outputs": [],
   "source": [
    "# Aplicar la función binariza con un umbral de 128\n",
    "imggray = img.convert(\"L\")  # Convertir a escala de grises\n",
    "arreglo_img = np.array(imggray)\n",
    "imagen_binarizada = micodigo.binariza(arreglo_img, umbral=128)\n",
    "\n",
    "# Visualizar la imagen original y la imagen binarizada\n",
    "plt.figure(figsize=(12, 6))\n",
    "\n",
    "# Imagen original en escala de grises\n",
    "plt.subplot(1, 2, 1)\n",
    "plt.imshow(arreglo_img, cmap='gray')\n",
    "plt.title(\"Imagen Original en Escala de Grises\")\n",
    "plt.axis('off')\n",
    "\n",
    "# Imagen binarizada\n",
    "plt.subplot(1, 2, 2)\n",
    "plt.imshow(imagen_binarizada, cmap='gray')\n",
    "plt.title(\"Imagen Binarizada\")\n",
    "plt.axis('off')"
   ]
  },
  {
   "cell_type": "markdown",
   "id": "451a3c3e-64f9-4feb-8e0b-0f409c363086",
   "metadata": {},
   "source": [
    "Prueba aplicar máscara"
   ]
  },
  {
   "cell_type": "code",
   "execution_count": null,
   "id": "f79fe794-de67-4ce6-bba2-5a8fecb47503",
   "metadata": {},
   "outputs": [],
   "source": [
    "img_array = np.array(img)\n",
    "img_array_gray = np.array(img.convert('L'))\n",
    "\n",
    "# Crea máscara\n",
    "mascara = micodigo.binariza(img_array_gray, umbral=200)\n",
    "\n",
    "# Aplicar la máscara a la imagen original\n",
    "imagen_mascarada = micodigo.aplicar_mascara(img_array, mascara)\n",
    "\n",
    "# Visualizar la imagen original, la máscara y la imagen con la máscara aplicada\n",
    "plt.figure(figsize=(18, 6))\n",
    "\n",
    "# Imagen original\n",
    "plt.subplot(1, 3, 1)\n",
    "plt.imshow(img_array)\n",
    "plt.title(\"Imagen Original\")\n",
    "plt.axis('off')\n",
    "\n",
    "# Máscara binaria\n",
    "plt.subplot(1, 3, 2)\n",
    "plt.imshow(mascara, cmap='gray')\n",
    "plt.title(\"Máscara Binaria\")\n",
    "plt.axis('off')\n",
    "\n",
    "# Imagen con máscara aplicada\n",
    "plt.subplot(1, 3, 3)\n",
    "plt.imshow(imagen_mascarada)\n",
    "plt.title(\"Imagen con Máscara Aplicada\")\n",
    "plt.axis('off')"
   ]
  },
  {
   "cell_type": "markdown",
   "id": "6049ba9d-8de0-4469-b6d5-425bf9804f78",
   "metadata": {},
   "source": [
    "Prueba aplicar_filtro_convolucion"
   ]
  },
  {
   "cell_type": "code",
   "execution_count": null,
   "id": "f4f8f3d9-2000-44dd-9a65-a7cb9a5ade4e",
   "metadata": {},
   "outputs": [],
   "source": [
    "img_array = np.array(img.convert('L'))\n",
    "\n",
    "# Definir el kernel Sobel en dirección horizontal\n",
    "kernel_sobel_x = np.array([[-1, 0, 1],\n",
    "                           [-2, 0, 2],\n",
    "                           [-1, 0, 1]])\n",
    "\n",
    "# Aplicar el filtro de convolución con el kernel Sobel\n",
    "img_filtrada = micodigo.aplicar_filtro_convolucion(img_array, kernel_sobel_x)\n",
    "\n",
    "# Visualizar la imagen original y la imagen filtrada\n",
    "plt.figure(figsize=(12, 6))\n",
    "\n",
    "# Imagen original\n",
    "plt.subplot(1, 2, 1)\n",
    "plt.imshow(img_array, cmap='gray')\n",
    "plt.title(\"Imagen Original en Escala de Grises\")\n",
    "plt.axis('off')\n",
    "\n",
    "# Imagen con filtro Sobel aplicado\n",
    "plt.subplot(1, 2, 2)\n",
    "plt.imshow(img_filtrada, cmap='gray')\n",
    "plt.title(\"Imagen con Filtro Sobel (Detección de Bordes)\")\n",
    "plt.axis('off')"
   ]
  },
  {
   "cell_type": "code",
   "execution_count": null,
   "id": "f0412a00-4a56-462f-9fe7-85de26ac239b",
   "metadata": {},
   "outputs": [],
   "source": []
  },
  {
   "cell_type": "code",
   "execution_count": null,
   "id": "394b1c4f-fce1-4c64-a96c-f2def4b3a0c8",
   "metadata": {},
   "outputs": [],
   "source": []
  }
 ],
 "metadata": {
  "kernelspec": {
   "display_name": "Python 3 (ipykernel)",
   "language": "python",
   "name": "python3"
  },
  "language_info": {
   "codemirror_mode": {
    "name": "ipython",
    "version": 3
   },
   "file_extension": ".py",
   "mimetype": "text/x-python",
   "name": "python",
   "nbconvert_exporter": "python",
   "pygments_lexer": "ipython3",
   "version": "3.11.2"
  }
 },
 "nbformat": 4,
 "nbformat_minor": 5
}
